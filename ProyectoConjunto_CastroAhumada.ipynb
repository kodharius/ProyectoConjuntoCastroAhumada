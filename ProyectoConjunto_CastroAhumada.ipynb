{
 "cells": [
  {
   "cell_type": "markdown",
   "metadata": {},
   "source": [
    "<img style=\"float: left; margin: 30px 15px 15px 15px;\" src=\"https://pngimage.net/wp-content/uploads/2018/06/logo-iteso-png-5.png\" width=\"300\" height=\"500\" /> \n",
    "    \n",
    "    \n",
    "### <font color='navy'> Simulación de procesos financieros. \n",
    "\n",
    "**Nombres:** Luis Jorge Ahumada Cerda, Dario Castro Gonzalez\n",
    "\n",
    "**Fecha:** 09 de febrero 2023.\n",
    "\n",
    "**Expediente** : 728125, 719910.\n",
    "**Profesor:** Oscar David Jaramillo Zuluaga.\n",
    "    \n",
    "**Link Github**: https://github.com/kodharius/ProyectoConjuntoCastroAhumada\n",
    "\n",
    "# Tarea 2: Clase 4"
   ]
  },
  {
   "cell_type": "markdown",
   "metadata": {},
   "source": [
    "## Enunciado de tarea (Transcibirlo)\n",
    "# Tarea 2:\n",
    "\n",
    "1. Imagine una rutina contable utilizada en una librería. Funciona en una lista con sublistas, que se ven así:\n",
    "![imagen.png](attachment:imagen.png)\n",
    "Escriba un programa en Python, que devuelve una lista con tuplas de tamaño 2. Cada tupla consiste en el número de pedido y el costo total del pedido. El producto debe aumentarse en 10€ si el valor de la orden es inferior a 100,00 €. \n",
    "Escribe un programa Python usando unicamente las funciones **lambda y map**.\n",
    "\n",
    "`orders = [ [\"34587\", \"Learning Python, Mark Lutz\", 4, 40.95], \n",
    "           [\"98762\", \"Programming Python, Mark Lutz\", 5, 56.80], \n",
    "           [\"77226\", \"Head First Python, Paul Barry\", 3,32.95],\n",
    "           [\"88112\", \"Einführung in Python3, Bernd Klein\", 3, 24.99]]`\n",
    "           \n",
    "2. La misma librería, pero esta vez trabajamos en una lista diferente. Las sublistas de nuestras listas se ven así: \n",
    "[número de orden, (número de artículo, cantidad, precio por unidad), ... (número de artículo, cantidad, precio por unidad)] \n",
    "\n",
    "`orders = [[1, (\"5464\", 4, 9.99), (\"8274\",18,12.99), (\"9744\", 9, 44.95)], \n",
    "\t       [2, (\"5464\", 9, 9.99), (\"9744\", 9, 44.95)],\n",
    "\t       [3, (\"5464\", 9, 9.99), (\"88112\", 11, 24.99)],\n",
    "           [4, (\"8732\", 7, 11.99), (\"7733\",11,18.99), (\"88112\", 5, 39.95)] ]`\n",
    "\n",
    "Escriba un programa que devuelva una lista de dos tuplas que tengan la información de (número de pedido, cantidad total de pedido). Utilice la función `Reduce`. Recuerde el precio del pedido del producto debe aumentarse en 10€ si el valor de la orden es inferior a 100,00 €.\n",
    "\n",
    "3. Resolver los anteriores ejercicios usando pandas (DataFrame)"
   ]
  },
  {
   "cell_type": "markdown",
   "metadata": {},
   "source": [
    "## Solucion 1"
   ]
  },
  {
   "cell_type": "code",
   "execution_count": 1,
   "metadata": {},
   "outputs": [],
   "source": [
    "########### Solución 1\n",
    "orders = [ [\"34587\", \"Learning Python, Mark Lutz\", 4, 40.95], \n",
    "           [\"98762\", \"Programming Python, Mark Lutz\", 5, 56.80], \n",
    "           [\"77226\", \"Head First Python, Paul Barry\", 3,32.95],\n",
    "           [\"88112\", \"Einführung in Python3, Bernd Klein\", 3, 24.99]]\n",
    "\n",
    "# El resultado debe ser como muestro en el resultado de esta celda\n"
   ]
  },
  {
   "cell_type": "code",
   "execution_count": 2,
   "metadata": {
    "scrolled": true
   },
   "outputs": [
    {
     "name": "stdout",
     "output_type": "stream",
     "text": [
      "[['34587', 163.8], ['98762', 284.0], ['77226', 108.85000000000001], ['88112', 84.97]]\n"
     ]
    }
   ],
   "source": [
    "import pandas as pd\n",
    "\n",
    "orders = [[\"34587\", \"Learning Python, Mark Lutz\", 4, 40.95], \n",
    "          [\"98762\", \"Programming Python, Mark Lutz\", 5, 56.80], \n",
    "          [\"77226\", \"Head First Python, Paul Barry\", 3, 32.95], \n",
    "          [\"88112\", \"Einführung in Python3, Bernd Klein\", 3, 24.99]]\n",
    "# solucion  estudiante 1 \n",
    "df = pd.DataFrame(orders, columns=['order_number', 'item', 'quantity', 'price'])\n",
    "df['total_price'] = df['quantity'] * df['price']\n",
    "df['total_price'] = df['total_price'].apply(lambda x: x + 10 if x < 100 else x)\n",
    "df = df[['order_number', 'total_price']]\n",
    "result = df.values.tolist()\n",
    "print(result)"
   ]
  },
  {
   "cell_type": "code",
   "execution_count": 3,
   "metadata": {},
   "outputs": [
    {
     "name": "stdout",
     "output_type": "stream",
     "text": [
      "[('34587', 163.8), ('98762', 284.0), ('77226', 108.85000000000001), ('88112', 84.97)]\n"
     ]
    }
   ],
   "source": [
    "#solucion  estudiante 2 \n",
    "total_cost = lambda x: x[2] * x[3] + 10 if x[2] * x[3] < 100 else x[2] * x[3]\n",
    "result = list(map(lambda x: (x[0], total_cost(x)), orders))\n",
    "print(result)"
   ]
  },
  {
   "cell_type": "markdown",
   "metadata": {},
   "source": [
    "### Respuesta planteada en el ejercicio usando (markdown)\n",
    "El costo de ordenes seria el segundo numero de la tupla y el primer numero es el numero de orden [('34587', 163.8), ('98762', 284.0), ('77226', 108.85000000000001), ('88112', 84.97)]"
   ]
  },
  {
   "cell_type": "markdown",
   "metadata": {},
   "source": [
    "## Solucion 2"
   ]
  },
  {
   "cell_type": "code",
   "execution_count": 4,
   "metadata": {},
   "outputs": [
    {
     "name": "stdout",
     "output_type": "stream",
     "text": [
      "[[1, 678.3299999999999], [2, 494.46000000000004], [3, 364.79999999999995], [4, 492.57]]\n"
     ]
    }
   ],
   "source": [
    "import pandas as np\n",
    "from functools import reduce\n",
    "\n",
    "orders = [[1, (\"5464\", 4, 9.99), (\"8274\",18,12.99), (\"9744\", 9, 44.95)], \n",
    "           [2, (\"5464\", 9, 9.99), (\"9744\", 9, 44.95)],\n",
    "           [3, (\"5464\", 9, 9.99), (\"88112\", 11, 24.99)],\n",
    "           [4, (\"8732\", 7, 11.99), (\"7733\",11,18.99), (\"88112\", 5, 39.95)] ]\n",
    "# estudiante 1 \n",
    "resultado = []\n",
    "for order in orders:\n",
    "    total = reduce(lambda x, y: x + y[1] * y[2], order[1:], 0)\n",
    "    if total < 100:\n",
    "        total += 10\n",
    "    resultado.append([order[0], total])\n",
    "\n",
    "print(resultado)"
   ]
  },
  {
   "cell_type": "code",
   "execution_count": 5,
   "metadata": {},
   "outputs": [
    {
     "name": "stdout",
     "output_type": "stream",
     "text": [
      "[[1, 678.3299999999999], [2, 494.46000000000004], [3, 364.79999999999995], [4, 492.57]]\n"
     ]
    }
   ],
   "source": [
    "# estudiante 2 \n",
    "resultado = []\n",
    "for order in orders:\n",
    "    total = sum([item[1] * item[2] for item in order[1:]])\n",
    "    total = total + 10 if total < 100 else total\n",
    "    resultado.append([order[0], total])\n",
    "\n",
    "print(resultado)\n"
   ]
  },
  {
   "cell_type": "markdown",
   "metadata": {},
   "source": [
    "### Respuesta planteada en el ejercicio usando (markdown)\n",
    "El costo de ordenes seria el segundo numero de la tupla [[1, 678.3299999999999], [2, 494.46000000000004], [3, 364.79999999999995], [4, 492.57]]"
   ]
  },
  {
   "cell_type": "markdown",
   "metadata": {},
   "source": [
    "# solucion 3"
   ]
  },
  {
   "cell_type": "code",
   "execution_count": 6,
   "metadata": {},
   "outputs": [
    {
     "name": "stdout",
     "output_type": "stream",
     "text": [
      "[['34587', 163.8], ['98762', 284.0], ['77226', 108.85000000000001], ['88112', 84.97]]\n"
     ]
    }
   ],
   "source": [
    "import pandas as pd\n",
    "\n",
    "orders = [[\"34587\", \"Learning Python, Mark Lutz\", 4, 40.95], \n",
    "          [\"98762\", \"Programming Python, Mark Lutz\", 5, 56.80], \n",
    "          [\"77226\", \"Head First Python, Paul Barry\", 3, 32.95], \n",
    "          [\"88112\", \"Einführung in Python3, Bernd Klein\", 3, 24.99]]\n",
    "# solucion problema 1 df estudiante 1\n",
    "df = pd.DataFrame(orders, columns=['order_number', 'item', 'quantity', 'price'])\n",
    "df['total_price'] = df['quantity'] * df['price']\n",
    "df['total_price'] = df['total_price'].apply(lambda x: x + 10 if x < 100 else x)\n",
    "df = df[['order_number', 'total_price']]\n",
    "result = df.values.tolist()\n",
    "print(result)"
   ]
  },
  {
   "cell_type": "code",
   "execution_count": 7,
   "metadata": {},
   "outputs": [
    {
     "name": "stdout",
     "output_type": "stream",
     "text": [
      "[['34587', 163.8], ['98762', 284.0], ['77226', 108.85000000000001], ['88112', 84.97]]\n"
     ]
    }
   ],
   "source": [
    "#solucion estudiante 2 \n",
    "orders = [[\"34587\", \"Learning Python, Mark Lutz\", 4, 40.95], \n",
    "          [\"98762\", \"Programming Python, Mark Lutz\", 5, 56.80], \n",
    "          [\"77226\", \"Head First Python, Paul Barry\", 3, 32.95], \n",
    "          [\"88112\", \"Einführung in Python3, Bernd Klein\", 3, 24.99]]\n",
    "df = pd.DataFrame(orders, columns=['order_number', 'item', 'quantity', 'price'])\n",
    "df['total_price'] = df['quantity'] * df['price']\n",
    "df['total_price'] = df['total_price'].apply(lambda x: x + 10 if x < 100 else x)\n",
    "df = df[['order_number', 'total_price']]\n",
    "result = df.values.tolist()\n",
    "print(result)\n"
   ]
  },
  {
   "cell_type": "markdown",
   "metadata": {},
   "source": [
    "## Solucion 4"
   ]
  },
  {
   "cell_type": "code",
   "execution_count": 8,
   "metadata": {},
   "outputs": [
    {
     "name": "stdout",
     "output_type": "stream",
     "text": [
      "['notion', 'lambda', 'function', 'goes', 'back', 'origin', 'computer', 'science']\n"
     ]
    }
   ],
   "source": [
    "#solucion estudiante 1\n",
    "palabras = 'the notion of a lambda function goes all the way back to the origin of computer science'.split()\n",
    "res = list(filter(lambda word: len(word) >= 4, palabras))\n",
    "print(res)"
   ]
  },
  {
   "cell_type": "code",
   "execution_count": 9,
   "metadata": {},
   "outputs": [
    {
     "name": "stdout",
     "output_type": "stream",
     "text": [
      "['notion', 'lambda', 'function', 'goes', 'back', 'origin', 'computer', 'science']\n"
     ]
    }
   ],
   "source": [
    "#solucion estudiante 2 \n",
    "palabras = 'the notion of a lambda function goes all the way back to the origin of computer science'.split()\n",
    "res = [word for word in palabras if len(word) >= 4]\n",
    "print(res)\n"
   ]
  },
  {
   "cell_type": "markdown",
   "metadata": {},
   "source": [
    "### Respuesta planteada en el ejercicio usando (markdown)\n",
    " La respuesta es ['notion', 'lambda', 'function', 'goes', 'back', 'origin', 'computer', 'science']"
   ]
  },
  {
   "cell_type": "markdown",
   "metadata": {},
   "source": [
    "## Solucion 5"
   ]
  },
  {
   "cell_type": "code",
   "execution_count": 10,
   "metadata": {},
   "outputs": [
    {
     "name": "stdout",
     "output_type": "stream",
     "text": [
      "[ 35.97387961  99.13294268  92.6178302   99.69549478  63.21119535\n",
      "  73.90387697  95.50028838  99.21476553  36.98251238 101.45813729\n",
      " 100.5917418   89.38159435  89.52156589  83.8084752   28.37990868\n",
      "  68.75395211  45.86132067  36.58307493  56.32208365  33.96219302\n",
      "  45.29071318  74.86289938  66.51091383  88.19316186  94.26635864\n",
      "  46.83131624 109.60744472 109.68427993  44.55796499  92.84146259]\n"
     ]
    }
   ],
   "source": [
    "import numpy as np\n",
    "np.random.seed(55555)\n",
    "temperatures = np.random.uniform(25,110,30)\n",
    "print(temperatures)\n"
   ]
  },
  {
   "cell_type": "code",
   "execution_count": 11,
   "metadata": {},
   "outputs": [
    {
     "name": "stdout",
     "output_type": "stream",
     "text": [
      "Temperaturas entre 32 a 80:  [35.97387961379455, 63.211195349983264, 73.90387696517755, 36.982512376595906, 68.75395211338406, 45.86132066984196, 36.58307493022292, 56.322083650154724, 33.9621930206693, 45.29071317816652, 74.86289938282341, 66.51091382521807, 46.831316244170544, 44.55796498523391]\n"
     ]
    }
   ],
   "source": [
    "#solucion estudiante 1\n",
    "# Usamos filtros para filtrar las temp deseadas\n",
    "filtro_temps = list(filter(lambda x: 32 <= x <= 80, temperatures))\n",
    "\n",
    "# Imprimimos las temp deseadas entre 32 a 80\n",
    "print(\"Temperaturas entre 32 a 80: \", filtro_temps)"
   ]
  },
  {
   "cell_type": "code",
   "execution_count": 12,
   "metadata": {},
   "outputs": [
    {
     "name": "stdout",
     "output_type": "stream",
     "text": [
      "Temperaturas entre 32 a 80:  [35.97387961379455, 63.211195349983264, 73.90387696517755, 36.982512376595906, 68.75395211338406, 45.86132066984196, 36.58307493022292, 56.322083650154724, 33.9621930206693, 45.29071317816652, 74.86289938282341, 66.51091382521807, 46.831316244170544, 44.55796498523391]\n"
     ]
    }
   ],
   "source": [
    "#solucion estudiante 2\n",
    "\n",
    "import numpy as np\n",
    "np.random.seed(55555)\n",
    "temperatures = np.random.uniform(25,110,30)\n",
    "\n",
    "\n",
    "filtro_temps = [x for x in temperatures if 32 <= x <= 80]\n",
    "\n",
    "print(\"Temperaturas entre 32 a 80: \", filtro_temps)\n"
   ]
  },
  {
   "cell_type": "markdown",
   "metadata": {},
   "source": [
    "### Respuesta planteada en el ejercicio usando (markdown)\n",
    " La respuesta es Temperaturas entre 32 a 80:  [35.97387961379455, 63.211195349983264, 73.90387696517755, 36.982512376595906, 68.75395211338406, 45.86132066984196, 36.58307493022292, 56.322083650154724, 33.9621930206693, 45.29071317816652, 74.86289938282341, 66.51091382521807, 46.831316244170544, 44.55796498523391]"
   ]
  },
  {
   "cell_type": "markdown",
   "metadata": {},
   "source": [
    "## Solucion 6"
   ]
  },
  {
   "cell_type": "code",
   "execution_count": 13,
   "metadata": {},
   "outputs": [
    {
     "name": "stdout",
     "output_type": "stream",
     "text": [
      "[[17 97]\n",
      " [22 33]\n",
      " [37 46]\n",
      " [57 28]\n",
      " [11 25]\n",
      " [14  2]\n",
      " [74 16]\n",
      " [12 37]\n",
      " [35 21]\n",
      " [66 65]\n",
      " [86 58]\n",
      " [67 81]\n",
      " [ 0 48]\n",
      " [28 66]\n",
      " [76 22]\n",
      " [46 47]\n",
      " [64  7]\n",
      " [88 94]\n",
      " [65 13]\n",
      " [75 89]\n",
      " [23 17]\n",
      " [36 63]\n",
      " [62 36]\n",
      " [64 17]\n",
      " [18 19]\n",
      " [88 41]\n",
      " [21 49]\n",
      " [98 36]\n",
      " [81 73]\n",
      " [62 90]]\n"
     ]
    }
   ],
   "source": [
    "########### Solución 5\n",
    "np.random.seed(55555)\n",
    "point_xy = np.random.randint(0,100,[30,2])\n",
    "print(point_xy)"
   ]
  },
  {
   "cell_type": "code",
   "execution_count": 14,
   "metadata": {},
   "outputs": [
    {
     "name": "stdout",
     "output_type": "stream",
     "text": [
      "El máximo valor de la lista es: [98, 36]\n",
      "El minimo valor de la lista es: [0, 48]\n"
     ]
    }
   ],
   "source": [
    "from functools import reduce\n",
    "lista = point_xy.tolist()\n",
    "\n",
    "# Realiza la suma de los elementos de una lista\n",
    "\n",
    "# Determinar el máximo de una lista de valores numéricos \n",
    "f = reduce(lambda x, y: x if x>y else y, lista)\n",
    "print('El máximo valor de la lista es:',  f)\n",
    "f3 = reduce(min, lista)\n",
    "print('El minimo valor de la lista es:',  f3)\n"
   ]
  },
  {
   "cell_type": "code",
   "execution_count": 15,
   "metadata": {},
   "outputs": [
    {
     "name": "stdout",
     "output_type": "stream",
     "text": [
      "[[17 97]\n",
      " [22 33]\n",
      " [37 46]\n",
      " [57 28]\n",
      " [11 25]\n",
      " [14  2]\n",
      " [74 16]\n",
      " [12 37]\n",
      " [35 21]\n",
      " [66 65]\n",
      " [86 58]\n",
      " [67 81]\n",
      " [ 0 48]\n",
      " [28 66]\n",
      " [76 22]\n",
      " [46 47]\n",
      " [64  7]\n",
      " [88 94]\n",
      " [65 13]\n",
      " [75 89]\n",
      " [23 17]\n",
      " [36 63]\n",
      " [62 36]\n",
      " [64 17]\n",
      " [18 19]\n",
      " [88 41]\n",
      " [21 49]\n",
      " [98 36]\n",
      " [81 73]\n",
      " [62 90]]\n",
      "El máximo valor de la lista es: 33\n",
      "El mínimo valor de la lista es: 17\n"
     ]
    }
   ],
   "source": [
    "import numpy as np\n",
    "\n",
    "np.random.seed(55555)\n",
    "point_xy = np.random.randint(0, 100, [30, 2])\n",
    "print(point_xy)\n",
    "max_pos = np.argmax(point_xy, axis=1)\n",
    "max_value = point_xy[max_pos[0], max_pos[1]]\n",
    "print(\"El máximo valor de la lista es:\", max_value)\n",
    "\n",
    "min_pos = np.argmin(point_xy, axis=1)\n",
    "min_value = point_xy[min_pos[0], min_pos[1]]\n",
    "print(\"El mínimo valor de la lista es:\", min_value)"
   ]
  },
  {
   "cell_type": "markdown",
   "metadata": {},
   "source": [
    "### Respuesta planteada en el ejercicio usando (markdown)\n",
    " La respuesta es El máximo valor de la lista es: [98, 36]\n",
    "El minimo valor de la lista es: [0, 48]"
   ]
  },
  {
   "cell_type": "code",
   "execution_count": 16,
   "metadata": {},
   "outputs": [
    {
     "name": "stdout",
     "output_type": "stream",
     "text": [
      "El valor máximo es [98, 36].\n",
      "El valor mínimo es [0, 48].\n"
     ]
    }
   ],
   "source": [
    "#Solucion 2\n",
    "# Encontrar el valor máximo usando la función reduce\n",
    "maximo = reduce(lambda x, y: max(x, y), lista)\n",
    "\n",
    "# Encontrar el valor mínimo usando la función reduce\n",
    "minimo = reduce(lambda x, y: min(x, y), lista)\n",
    "\n",
    "# Imprimir los resultados\n",
    "print(f'El valor máximo es {maximo}.')\n",
    "print(f'El valor mínimo es {minimo}.')"
   ]
  },
  {
   "cell_type": "code",
   "execution_count": null,
   "metadata": {},
   "outputs": [],
   "source": []
  },
  {
   "cell_type": "markdown",
   "metadata": {},
   "source": []
  },
  {
   "cell_type": "code",
   "execution_count": null,
   "metadata": {},
   "outputs": [],
   "source": []
  }
 ],
 "metadata": {
  "kernelspec": {
   "display_name": "Python 3 (ipykernel)",
   "language": "python",
   "name": "python3"
  },
  "language_info": {
   "codemirror_mode": {
    "name": "ipython",
    "version": 3
   },
   "file_extension": ".py",
   "mimetype": "text/x-python",
   "name": "python",
   "nbconvert_exporter": "python",
   "pygments_lexer": "ipython3",
   "version": "3.9.12"
  }
 },
 "nbformat": 4,
 "nbformat_minor": 2
}
